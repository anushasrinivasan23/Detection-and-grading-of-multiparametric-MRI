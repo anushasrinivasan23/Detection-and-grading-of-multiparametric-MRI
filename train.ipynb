{
  "cells": [
    {
      "cell_type": "code",
      "execution_count": null,
      "metadata": {
        "id": "12pMr9zw1-zr",
        "scrolled": true
      },
      "outputs": [],
      "source": [
        "seed_value= 123\n",
        "import tensorflow as tf\n",
        "import random as rn\n",
        "import random\n",
        "from tensorflow.keras.optimizers import SGD"
      ]
    },
    {
      "cell_type": "code",
      "execution_count": null,
      "metadata": {
        "id": "uILxA12t1-zz"
      },
      "outputs": [],
      "source": [
        "import pandas as pd\n",
        "import matplotlib.pyplot as plt\n",
        "import seaborn as sns\n",
        "import numpy as np"
      ]
    },
    {
      "cell_type": "code",
      "execution_count": null,
      "metadata": {
        "id": "WCGGDZKK1-z0"
      },
      "outputs": [],
      "source": [
        "import tensorflow.keras\n",
        "import tensorflow as tf\n",
        "from tensorflow.keras.models import Model, Sequential, load_model\n",
        "from tensorflow.keras.layers import Dense, Dropout, Flatten ,ZeroPadding2D\n",
        "from tensorflow.keras.layers import Input, Conv2D, MaxPooling2D, Conv3D, MaxPooling3D\n",
        "from tensorflow.keras.layers import BatchNormalization\n",
        "from tensorflow.keras import backend as K\n",
        "from tensorflow.keras.utils import plot_model\n",
        "from tensorflow.keras.initializers import Constant\n",
        "from tensorflow.keras.optimizers import RMSprop\n",
        "from tensorflow.keras.callbacks import ModelCheckpoint, EarlyStopping\n",
        "from scipy import ndimage\n",
        "\n",
        "from tensorflow.keras import layers\n",
        "from tensorflow.keras.optimizers import Adam,Adadelta, Adagrad\n",
        "from tensorflow.keras import models\n",
        "from tensorflow.keras import regularizers\n",
        "\n",
        "from tensorflow.keras.callbacks import EarlyStopping\n",
        "from tensorflow.keras.regularizers import l2\n",
        "\n",
        "from tensorflow.keras import activations\n",
        "from tensorflow.keras import Model\n",
        "\n",
        "from tensorflow.keras.layers import AvgPool2D, MaxPool2D, GlobalAvgPool2D\n",
        "from tensorflow.keras.layers import Add, ReLU, Dense, concatenate\n",
        "\n",
        "from tensorflow.keras.layers import Input, Conv2D, MaxPooling2D, ZeroPadding2D,\\\n",
        "     Flatten, BatchNormalization, AveragePooling2D, Dense, Activation, Add\n",
        "\n",
        "from tensorflow.keras.applications import VGG16,VGG19"
      ]
    },
    {
      "cell_type": "code",
      "execution_count": null,
      "metadata": {
        "id": "9RNhypv21-z2"
      },
      "outputs": [],
      "source": [
        "from sklearn.model_selection import LeaveOneOut, GridSearchCV\n",
        "from sklearn.model_selection import KFold,StratifiedKFold\n",
        "\n",
        "from sklearn.model_selection import cross_val_score\n",
        "from sklearn.metrics import accuracy_score\n",
        "\n",
        "from statistics import mean, stdev\n",
        "from sklearn.metrics import confusion_matrix, classification_report, cohen_kappa_score\n"
      ]
    },
    {
      "cell_type": "code",
      "execution_count": null,
      "metadata": {
        "colab": {
          "base_uri": "https://localhost:8080/"
        },
        "id": "gQKxpS_52cV3",
        "outputId": "30dc3283-1764-4907-9781-95100e73efb0"
      },
      "outputs": [
        {
          "output_type": "stream",
          "name": "stdout",
          "text": [
            "Mounted at /content/drive\n"
          ]
        }
      ],
      "source": [
        "from google.colab import drive\n",
        "drive.mount('/content/drive')"
      ]
    },
    {
      "cell_type": "markdown",
      "metadata": {
        "id": "2QyJT2uC1-z3"
      },
      "source": [
        "MODEL ARCHITECTURE\n",
        "\n",
        "<img src=\"Modelpic.png\">"
      ]
    },
    {
      "cell_type": "code",
      "execution_count": null,
      "metadata": {
        "id": "ZKdv0z-61-z6"
      },
      "outputs": [],
      "source": [
        "#only T2tra, ADC, Bval\n",
        "data =pd.read_csv(\"/content/drive/MyDrive/Prostate-X/2-Final-with-Ktrans.csv\")"
      ]
    },
    {
      "cell_type": "code",
      "execution_count": null,
      "metadata": {
        "id": "LZhLVofy1-z7",
        "colab": {
          "base_uri": "https://localhost:8080/",
          "height": 835
        },
        "outputId": "7782b04d-4066-4a88-88c4-144dbd608b4b"
      },
      "outputs": [
        {
          "output_type": "execute_result",
          "data": {
            "text/plain": [
              "             ProxID                               Name  fid  \\\n",
              "0    ProstateX-0000                        t2_tse_sag0    1   \n",
              "1    ProstateX-0000    ep2d_diff_tra_DYNDISTCALC_BVAL0    1   \n",
              "2    ProstateX-0000                             ktrans    1   \n",
              "3    ProstateX-0000         ep2d_diff_tra_DYNDIST_ADC0    1   \n",
              "4    ProstateX-0000                        t2_tse_tra0    1   \n",
              "..              ...                                ...  ...   \n",
              "555  ProstateX-0203  diffusie_3Scan_4bval_fsCALC_BVAL0    2   \n",
              "556  ProstateX-0203                        t2_tse_tra0    1   \n",
              "557  ProstateX-0203                        t2_tse_sag0    2   \n",
              "558  ProstateX-0203                        t2_tse_tra0    2   \n",
              "559  ProstateX-0203                             ktrans    2   \n",
              "\n",
              "                                                   pos         ijk  \\\n",
              "0                              25.7457 31.8707 -38.511  176 169 13   \n",
              "1                              25.7457 31.8707 -38.511     36 72 9   \n",
              "2                              25.7457 31.8707 -38.511     56 75 7   \n",
              "3                              25.7457 31.8707 -38.511     36 72 9   \n",
              "4                              25.7457 31.8707 -38.511   167 224 9   \n",
              "..                                                 ...         ...   \n",
              "555  10.0280456542969 -4.62264251708984 -90.3759994...     70 54 8   \n",
              "556                        -10.02681 -18.5905 -75.1691  144 132 11   \n",
              "557  10.0280456542969 -4.62264251708984 -90.3759994...   163 169 5   \n",
              "558  10.0280456542969 -4.62264251708984 -90.3759994...   180 162 8   \n",
              "559  10.0280456542969 -4.62264251708984 -90.3759994...     71 65 5   \n",
              "\n",
              "     SpacingBetweenSlices       VoxelSpacing           Dim  \\\n",
              "0                     3.6  0.5625,0.5625,3.6  320x320x19x1   \n",
              "1                     3.0              2,2,3   84x128x19x1   \n",
              "2                     NaN                NaN           NaN   \n",
              "3                     3.0              2,2,3   84x128x19x1   \n",
              "4                     3.0          0.5,0.5,3  384x384x19x1   \n",
              "..                    ...                ...           ...   \n",
              "555                   4.0              2,2,4  128x106x20x1   \n",
              "556                   3.0    0.5625,0.5625,3  320x320x19x1   \n",
              "557                   3.0    0.5625,0.5625,3  320x320x19x1   \n",
              "558                   3.0    0.5625,0.5625,3  320x320x19x1   \n",
              "559                   NaN                NaN           NaN   \n",
              "\n",
              "                          DCMSerDescr zone  ggg  \n",
              "0                          t2_tse_sag   PZ    3  \n",
              "1      ep2d_diff_tra_DYNDISTCALC_BVAL   PZ    3  \n",
              "2                              ktrans   PZ    3  \n",
              "3           ep2d_diff_tra_DYNDIST_ADC   PZ    3  \n",
              "4                          t2_tse_tra   PZ    3  \n",
              "..                                ...  ...  ...  \n",
              "555  diffusie-3Scan-4bval_fsCALC_BVAL   PZ    3  \n",
              "556                        t2_tse_tra   AS    2  \n",
              "557                        t2_tse_sag   PZ    3  \n",
              "558                        t2_tse_tra   PZ    3  \n",
              "559                            ktrans   PZ    3  \n",
              "\n",
              "[560 rows x 11 columns]"
            ],
            "text/html": [
              "\n",
              "  <div id=\"df-c289dc56-c5d4-405e-a6fb-d3327452a724\">\n",
              "    <div class=\"colab-df-container\">\n",
              "      <div>\n",
              "<style scoped>\n",
              "    .dataframe tbody tr th:only-of-type {\n",
              "        vertical-align: middle;\n",
              "    }\n",
              "\n",
              "    .dataframe tbody tr th {\n",
              "        vertical-align: top;\n",
              "    }\n",
              "\n",
              "    .dataframe thead th {\n",
              "        text-align: right;\n",
              "    }\n",
              "</style>\n",
              "<table border=\"1\" class=\"dataframe\">\n",
              "  <thead>\n",
              "    <tr style=\"text-align: right;\">\n",
              "      <th></th>\n",
              "      <th>ProxID</th>\n",
              "      <th>Name</th>\n",
              "      <th>fid</th>\n",
              "      <th>pos</th>\n",
              "      <th>ijk</th>\n",
              "      <th>SpacingBetweenSlices</th>\n",
              "      <th>VoxelSpacing</th>\n",
              "      <th>Dim</th>\n",
              "      <th>DCMSerDescr</th>\n",
              "      <th>zone</th>\n",
              "      <th>ggg</th>\n",
              "    </tr>\n",
              "  </thead>\n",
              "  <tbody>\n",
              "    <tr>\n",
              "      <th>0</th>\n",
              "      <td>ProstateX-0000</td>\n",
              "      <td>t2_tse_sag0</td>\n",
              "      <td>1</td>\n",
              "      <td>25.7457 31.8707 -38.511</td>\n",
              "      <td>176 169 13</td>\n",
              "      <td>3.6</td>\n",
              "      <td>0.5625,0.5625,3.6</td>\n",
              "      <td>320x320x19x1</td>\n",
              "      <td>t2_tse_sag</td>\n",
              "      <td>PZ</td>\n",
              "      <td>3</td>\n",
              "    </tr>\n",
              "    <tr>\n",
              "      <th>1</th>\n",
              "      <td>ProstateX-0000</td>\n",
              "      <td>ep2d_diff_tra_DYNDISTCALC_BVAL0</td>\n",
              "      <td>1</td>\n",
              "      <td>25.7457 31.8707 -38.511</td>\n",
              "      <td>36 72 9</td>\n",
              "      <td>3.0</td>\n",
              "      <td>2,2,3</td>\n",
              "      <td>84x128x19x1</td>\n",
              "      <td>ep2d_diff_tra_DYNDISTCALC_BVAL</td>\n",
              "      <td>PZ</td>\n",
              "      <td>3</td>\n",
              "    </tr>\n",
              "    <tr>\n",
              "      <th>2</th>\n",
              "      <td>ProstateX-0000</td>\n",
              "      <td>ktrans</td>\n",
              "      <td>1</td>\n",
              "      <td>25.7457 31.8707 -38.511</td>\n",
              "      <td>56 75 7</td>\n",
              "      <td>NaN</td>\n",
              "      <td>NaN</td>\n",
              "      <td>NaN</td>\n",
              "      <td>ktrans</td>\n",
              "      <td>PZ</td>\n",
              "      <td>3</td>\n",
              "    </tr>\n",
              "    <tr>\n",
              "      <th>3</th>\n",
              "      <td>ProstateX-0000</td>\n",
              "      <td>ep2d_diff_tra_DYNDIST_ADC0</td>\n",
              "      <td>1</td>\n",
              "      <td>25.7457 31.8707 -38.511</td>\n",
              "      <td>36 72 9</td>\n",
              "      <td>3.0</td>\n",
              "      <td>2,2,3</td>\n",
              "      <td>84x128x19x1</td>\n",
              "      <td>ep2d_diff_tra_DYNDIST_ADC</td>\n",
              "      <td>PZ</td>\n",
              "      <td>3</td>\n",
              "    </tr>\n",
              "    <tr>\n",
              "      <th>4</th>\n",
              "      <td>ProstateX-0000</td>\n",
              "      <td>t2_tse_tra0</td>\n",
              "      <td>1</td>\n",
              "      <td>25.7457 31.8707 -38.511</td>\n",
              "      <td>167 224 9</td>\n",
              "      <td>3.0</td>\n",
              "      <td>0.5,0.5,3</td>\n",
              "      <td>384x384x19x1</td>\n",
              "      <td>t2_tse_tra</td>\n",
              "      <td>PZ</td>\n",
              "      <td>3</td>\n",
              "    </tr>\n",
              "    <tr>\n",
              "      <th>...</th>\n",
              "      <td>...</td>\n",
              "      <td>...</td>\n",
              "      <td>...</td>\n",
              "      <td>...</td>\n",
              "      <td>...</td>\n",
              "      <td>...</td>\n",
              "      <td>...</td>\n",
              "      <td>...</td>\n",
              "      <td>...</td>\n",
              "      <td>...</td>\n",
              "      <td>...</td>\n",
              "    </tr>\n",
              "    <tr>\n",
              "      <th>555</th>\n",
              "      <td>ProstateX-0203</td>\n",
              "      <td>diffusie_3Scan_4bval_fsCALC_BVAL0</td>\n",
              "      <td>2</td>\n",
              "      <td>10.0280456542969 -4.62264251708984 -90.3759994...</td>\n",
              "      <td>70 54 8</td>\n",
              "      <td>4.0</td>\n",
              "      <td>2,2,4</td>\n",
              "      <td>128x106x20x1</td>\n",
              "      <td>diffusie-3Scan-4bval_fsCALC_BVAL</td>\n",
              "      <td>PZ</td>\n",
              "      <td>3</td>\n",
              "    </tr>\n",
              "    <tr>\n",
              "      <th>556</th>\n",
              "      <td>ProstateX-0203</td>\n",
              "      <td>t2_tse_tra0</td>\n",
              "      <td>1</td>\n",
              "      <td>-10.02681 -18.5905 -75.1691</td>\n",
              "      <td>144 132 11</td>\n",
              "      <td>3.0</td>\n",
              "      <td>0.5625,0.5625,3</td>\n",
              "      <td>320x320x19x1</td>\n",
              "      <td>t2_tse_tra</td>\n",
              "      <td>AS</td>\n",
              "      <td>2</td>\n",
              "    </tr>\n",
              "    <tr>\n",
              "      <th>557</th>\n",
              "      <td>ProstateX-0203</td>\n",
              "      <td>t2_tse_sag0</td>\n",
              "      <td>2</td>\n",
              "      <td>10.0280456542969 -4.62264251708984 -90.3759994...</td>\n",
              "      <td>163 169 5</td>\n",
              "      <td>3.0</td>\n",
              "      <td>0.5625,0.5625,3</td>\n",
              "      <td>320x320x19x1</td>\n",
              "      <td>t2_tse_sag</td>\n",
              "      <td>PZ</td>\n",
              "      <td>3</td>\n",
              "    </tr>\n",
              "    <tr>\n",
              "      <th>558</th>\n",
              "      <td>ProstateX-0203</td>\n",
              "      <td>t2_tse_tra0</td>\n",
              "      <td>2</td>\n",
              "      <td>10.0280456542969 -4.62264251708984 -90.3759994...</td>\n",
              "      <td>180 162 8</td>\n",
              "      <td>3.0</td>\n",
              "      <td>0.5625,0.5625,3</td>\n",
              "      <td>320x320x19x1</td>\n",
              "      <td>t2_tse_tra</td>\n",
              "      <td>PZ</td>\n",
              "      <td>3</td>\n",
              "    </tr>\n",
              "    <tr>\n",
              "      <th>559</th>\n",
              "      <td>ProstateX-0203</td>\n",
              "      <td>ktrans</td>\n",
              "      <td>2</td>\n",
              "      <td>10.0280456542969 -4.62264251708984 -90.3759994...</td>\n",
              "      <td>71 65 5</td>\n",
              "      <td>NaN</td>\n",
              "      <td>NaN</td>\n",
              "      <td>NaN</td>\n",
              "      <td>ktrans</td>\n",
              "      <td>PZ</td>\n",
              "      <td>3</td>\n",
              "    </tr>\n",
              "  </tbody>\n",
              "</table>\n",
              "<p>560 rows × 11 columns</p>\n",
              "</div>\n",
              "      <button class=\"colab-df-convert\" onclick=\"convertToInteractive('df-c289dc56-c5d4-405e-a6fb-d3327452a724')\"\n",
              "              title=\"Convert this dataframe to an interactive table.\"\n",
              "              style=\"display:none;\">\n",
              "        \n",
              "  <svg xmlns=\"http://www.w3.org/2000/svg\" height=\"24px\"viewBox=\"0 0 24 24\"\n",
              "       width=\"24px\">\n",
              "    <path d=\"M0 0h24v24H0V0z\" fill=\"none\"/>\n",
              "    <path d=\"M18.56 5.44l.94 2.06.94-2.06 2.06-.94-2.06-.94-.94-2.06-.94 2.06-2.06.94zm-11 1L8.5 8.5l.94-2.06 2.06-.94-2.06-.94L8.5 2.5l-.94 2.06-2.06.94zm10 10l.94 2.06.94-2.06 2.06-.94-2.06-.94-.94-2.06-.94 2.06-2.06.94z\"/><path d=\"M17.41 7.96l-1.37-1.37c-.4-.4-.92-.59-1.43-.59-.52 0-1.04.2-1.43.59L10.3 9.45l-7.72 7.72c-.78.78-.78 2.05 0 2.83L4 21.41c.39.39.9.59 1.41.59.51 0 1.02-.2 1.41-.59l7.78-7.78 2.81-2.81c.8-.78.8-2.07 0-2.86zM5.41 20L4 18.59l7.72-7.72 1.47 1.35L5.41 20z\"/>\n",
              "  </svg>\n",
              "      </button>\n",
              "      \n",
              "  <style>\n",
              "    .colab-df-container {\n",
              "      display:flex;\n",
              "      flex-wrap:wrap;\n",
              "      gap: 12px;\n",
              "    }\n",
              "\n",
              "    .colab-df-convert {\n",
              "      background-color: #E8F0FE;\n",
              "      border: none;\n",
              "      border-radius: 50%;\n",
              "      cursor: pointer;\n",
              "      display: none;\n",
              "      fill: #1967D2;\n",
              "      height: 32px;\n",
              "      padding: 0 0 0 0;\n",
              "      width: 32px;\n",
              "    }\n",
              "\n",
              "    .colab-df-convert:hover {\n",
              "      background-color: #E2EBFA;\n",
              "      box-shadow: 0px 1px 2px rgba(60, 64, 67, 0.3), 0px 1px 3px 1px rgba(60, 64, 67, 0.15);\n",
              "      fill: #174EA6;\n",
              "    }\n",
              "\n",
              "    [theme=dark] .colab-df-convert {\n",
              "      background-color: #3B4455;\n",
              "      fill: #D2E3FC;\n",
              "    }\n",
              "\n",
              "    [theme=dark] .colab-df-convert:hover {\n",
              "      background-color: #434B5C;\n",
              "      box-shadow: 0px 1px 3px 1px rgba(0, 0, 0, 0.15);\n",
              "      filter: drop-shadow(0px 1px 2px rgba(0, 0, 0, 0.3));\n",
              "      fill: #FFFFFF;\n",
              "    }\n",
              "  </style>\n",
              "\n",
              "      <script>\n",
              "        const buttonEl =\n",
              "          document.querySelector('#df-c289dc56-c5d4-405e-a6fb-d3327452a724 button.colab-df-convert');\n",
              "        buttonEl.style.display =\n",
              "          google.colab.kernel.accessAllowed ? 'block' : 'none';\n",
              "\n",
              "        async function convertToInteractive(key) {\n",
              "          const element = document.querySelector('#df-c289dc56-c5d4-405e-a6fb-d3327452a724');\n",
              "          const dataTable =\n",
              "            await google.colab.kernel.invokeFunction('convertToInteractive',\n",
              "                                                     [key], {});\n",
              "          if (!dataTable) return;\n",
              "\n",
              "          const docLinkHtml = 'Like what you see? Visit the ' +\n",
              "            '<a target=\"_blank\" href=https://colab.research.google.com/notebooks/data_table.ipynb>data table notebook</a>'\n",
              "            + ' to learn more about interactive tables.';\n",
              "          element.innerHTML = '';\n",
              "          dataTable['output_type'] = 'display_data';\n",
              "          await google.colab.output.renderOutput(dataTable, element);\n",
              "          const docLink = document.createElement('div');\n",
              "          docLink.innerHTML = docLinkHtml;\n",
              "          element.appendChild(docLink);\n",
              "        }\n",
              "      </script>\n",
              "    </div>\n",
              "  </div>\n",
              "  "
            ]
          },
          "metadata": {},
          "execution_count": 11
        }
      ],
      "source": [
        "data"
      ]
    },
    {
      "cell_type": "code",
      "source": [
        "count =   data['Name'].value_counts()['ep2d_diff_tra_DYNDIST_ADC0']\n",
        "print(count)"
      ],
      "metadata": {
        "colab": {
          "base_uri": "https://localhost:8080/"
        },
        "id": "2sk0iOcGHtO6",
        "outputId": "86bed5b2-f496-41e5-a211-916676740329"
      },
      "execution_count": null,
      "outputs": [
        {
          "output_type": "stream",
          "name": "stdout",
          "text": [
            "81\n"
          ]
        }
      ]
    },
    {
      "cell_type": "code",
      "execution_count": null,
      "metadata": {
        "id": "o7LiroYV1-z9",
        "colab": {
          "base_uri": "https://localhost:8080/",
          "height": 237
        },
        "outputId": "e6b5a659-9d2f-40a8-e48a-217ee8995dcf"
      },
      "outputs": [
        {
          "output_type": "execute_result",
          "data": {
            "text/plain": [
              "     ProxID  Name  fid  pos  ijk  SpacingBetweenSlices  VoxelSpacing  Dim  \\\n",
              "ggg                                                                         \n",
              "1       180   180  180  180  180                   144           144  144   \n",
              "2       205   205  205  205  205                   164           164  164   \n",
              "3       100   100  100  100  100                    80            80   80   \n",
              "4        40    40   40   40   40                    32            32   32   \n",
              "5        35    35   35   35   35                    28            28   28   \n",
              "\n",
              "     DCMSerDescr  zone  \n",
              "ggg                     \n",
              "1            180   180  \n",
              "2            205   205  \n",
              "3            100   100  \n",
              "4             40    40  \n",
              "5             35    35  "
            ],
            "text/html": [
              "\n",
              "  <div id=\"df-8a5bcf45-5311-43bd-87a9-d8406c0b9992\">\n",
              "    <div class=\"colab-df-container\">\n",
              "      <div>\n",
              "<style scoped>\n",
              "    .dataframe tbody tr th:only-of-type {\n",
              "        vertical-align: middle;\n",
              "    }\n",
              "\n",
              "    .dataframe tbody tr th {\n",
              "        vertical-align: top;\n",
              "    }\n",
              "\n",
              "    .dataframe thead th {\n",
              "        text-align: right;\n",
              "    }\n",
              "</style>\n",
              "<table border=\"1\" class=\"dataframe\">\n",
              "  <thead>\n",
              "    <tr style=\"text-align: right;\">\n",
              "      <th></th>\n",
              "      <th>ProxID</th>\n",
              "      <th>Name</th>\n",
              "      <th>fid</th>\n",
              "      <th>pos</th>\n",
              "      <th>ijk</th>\n",
              "      <th>SpacingBetweenSlices</th>\n",
              "      <th>VoxelSpacing</th>\n",
              "      <th>Dim</th>\n",
              "      <th>DCMSerDescr</th>\n",
              "      <th>zone</th>\n",
              "    </tr>\n",
              "    <tr>\n",
              "      <th>ggg</th>\n",
              "      <th></th>\n",
              "      <th></th>\n",
              "      <th></th>\n",
              "      <th></th>\n",
              "      <th></th>\n",
              "      <th></th>\n",
              "      <th></th>\n",
              "      <th></th>\n",
              "      <th></th>\n",
              "      <th></th>\n",
              "    </tr>\n",
              "  </thead>\n",
              "  <tbody>\n",
              "    <tr>\n",
              "      <th>1</th>\n",
              "      <td>180</td>\n",
              "      <td>180</td>\n",
              "      <td>180</td>\n",
              "      <td>180</td>\n",
              "      <td>180</td>\n",
              "      <td>144</td>\n",
              "      <td>144</td>\n",
              "      <td>144</td>\n",
              "      <td>180</td>\n",
              "      <td>180</td>\n",
              "    </tr>\n",
              "    <tr>\n",
              "      <th>2</th>\n",
              "      <td>205</td>\n",
              "      <td>205</td>\n",
              "      <td>205</td>\n",
              "      <td>205</td>\n",
              "      <td>205</td>\n",
              "      <td>164</td>\n",
              "      <td>164</td>\n",
              "      <td>164</td>\n",
              "      <td>205</td>\n",
              "      <td>205</td>\n",
              "    </tr>\n",
              "    <tr>\n",
              "      <th>3</th>\n",
              "      <td>100</td>\n",
              "      <td>100</td>\n",
              "      <td>100</td>\n",
              "      <td>100</td>\n",
              "      <td>100</td>\n",
              "      <td>80</td>\n",
              "      <td>80</td>\n",
              "      <td>80</td>\n",
              "      <td>100</td>\n",
              "      <td>100</td>\n",
              "    </tr>\n",
              "    <tr>\n",
              "      <th>4</th>\n",
              "      <td>40</td>\n",
              "      <td>40</td>\n",
              "      <td>40</td>\n",
              "      <td>40</td>\n",
              "      <td>40</td>\n",
              "      <td>32</td>\n",
              "      <td>32</td>\n",
              "      <td>32</td>\n",
              "      <td>40</td>\n",
              "      <td>40</td>\n",
              "    </tr>\n",
              "    <tr>\n",
              "      <th>5</th>\n",
              "      <td>35</td>\n",
              "      <td>35</td>\n",
              "      <td>35</td>\n",
              "      <td>35</td>\n",
              "      <td>35</td>\n",
              "      <td>28</td>\n",
              "      <td>28</td>\n",
              "      <td>28</td>\n",
              "      <td>35</td>\n",
              "      <td>35</td>\n",
              "    </tr>\n",
              "  </tbody>\n",
              "</table>\n",
              "</div>\n",
              "      <button class=\"colab-df-convert\" onclick=\"convertToInteractive('df-8a5bcf45-5311-43bd-87a9-d8406c0b9992')\"\n",
              "              title=\"Convert this dataframe to an interactive table.\"\n",
              "              style=\"display:none;\">\n",
              "        \n",
              "  <svg xmlns=\"http://www.w3.org/2000/svg\" height=\"24px\"viewBox=\"0 0 24 24\"\n",
              "       width=\"24px\">\n",
              "    <path d=\"M0 0h24v24H0V0z\" fill=\"none\"/>\n",
              "    <path d=\"M18.56 5.44l.94 2.06.94-2.06 2.06-.94-2.06-.94-.94-2.06-.94 2.06-2.06.94zm-11 1L8.5 8.5l.94-2.06 2.06-.94-2.06-.94L8.5 2.5l-.94 2.06-2.06.94zm10 10l.94 2.06.94-2.06 2.06-.94-2.06-.94-.94-2.06-.94 2.06-2.06.94z\"/><path d=\"M17.41 7.96l-1.37-1.37c-.4-.4-.92-.59-1.43-.59-.52 0-1.04.2-1.43.59L10.3 9.45l-7.72 7.72c-.78.78-.78 2.05 0 2.83L4 21.41c.39.39.9.59 1.41.59.51 0 1.02-.2 1.41-.59l7.78-7.78 2.81-2.81c.8-.78.8-2.07 0-2.86zM5.41 20L4 18.59l7.72-7.72 1.47 1.35L5.41 20z\"/>\n",
              "  </svg>\n",
              "      </button>\n",
              "      \n",
              "  <style>\n",
              "    .colab-df-container {\n",
              "      display:flex;\n",
              "      flex-wrap:wrap;\n",
              "      gap: 12px;\n",
              "    }\n",
              "\n",
              "    .colab-df-convert {\n",
              "      background-color: #E8F0FE;\n",
              "      border: none;\n",
              "      border-radius: 50%;\n",
              "      cursor: pointer;\n",
              "      display: none;\n",
              "      fill: #1967D2;\n",
              "      height: 32px;\n",
              "      padding: 0 0 0 0;\n",
              "      width: 32px;\n",
              "    }\n",
              "\n",
              "    .colab-df-convert:hover {\n",
              "      background-color: #E2EBFA;\n",
              "      box-shadow: 0px 1px 2px rgba(60, 64, 67, 0.3), 0px 1px 3px 1px rgba(60, 64, 67, 0.15);\n",
              "      fill: #174EA6;\n",
              "    }\n",
              "\n",
              "    [theme=dark] .colab-df-convert {\n",
              "      background-color: #3B4455;\n",
              "      fill: #D2E3FC;\n",
              "    }\n",
              "\n",
              "    [theme=dark] .colab-df-convert:hover {\n",
              "      background-color: #434B5C;\n",
              "      box-shadow: 0px 1px 3px 1px rgba(0, 0, 0, 0.15);\n",
              "      filter: drop-shadow(0px 1px 2px rgba(0, 0, 0, 0.3));\n",
              "      fill: #FFFFFF;\n",
              "    }\n",
              "  </style>\n",
              "\n",
              "      <script>\n",
              "        const buttonEl =\n",
              "          document.querySelector('#df-8a5bcf45-5311-43bd-87a9-d8406c0b9992 button.colab-df-convert');\n",
              "        buttonEl.style.display =\n",
              "          google.colab.kernel.accessAllowed ? 'block' : 'none';\n",
              "\n",
              "        async function convertToInteractive(key) {\n",
              "          const element = document.querySelector('#df-8a5bcf45-5311-43bd-87a9-d8406c0b9992');\n",
              "          const dataTable =\n",
              "            await google.colab.kernel.invokeFunction('convertToInteractive',\n",
              "                                                     [key], {});\n",
              "          if (!dataTable) return;\n",
              "\n",
              "          const docLinkHtml = 'Like what you see? Visit the ' +\n",
              "            '<a target=\"_blank\" href=https://colab.research.google.com/notebooks/data_table.ipynb>data table notebook</a>'\n",
              "            + ' to learn more about interactive tables.';\n",
              "          element.innerHTML = '';\n",
              "          dataTable['output_type'] = 'display_data';\n",
              "          await google.colab.output.renderOutput(dataTable, element);\n",
              "          const docLink = document.createElement('div');\n",
              "          docLink.innerHTML = docLinkHtml;\n",
              "          element.appendChild(docLink);\n",
              "        }\n",
              "      </script>\n",
              "    </div>\n",
              "  </div>\n",
              "  "
            ]
          },
          "metadata": {},
          "execution_count": 8
        }
      ],
      "source": [
        "data.groupby('ggg').count()"
      ]
    },
    {
      "cell_type": "code",
      "execution_count": null,
      "metadata": {
        "id": "v042S-4N1-z_",
        "colab": {
          "base_uri": "https://localhost:8080/"
        },
        "outputId": "a0e37eac-c9f3-4cc4-db5a-181d8ec4987e"
      },
      "outputs": [
        {
          "output_type": "execute_result",
          "data": {
            "text/plain": [
              "ProstateX-0196    15\n",
              "ProstateX-0122    10\n",
              "ProstateX-0031    10\n",
              "ProstateX-0199    10\n",
              "ProstateX-0179    10\n",
              "ProstateX-0173    10\n",
              "ProstateX-0150    10\n",
              "ProstateX-0139    10\n",
              "ProstateX-0121    10\n",
              "ProstateX-0203    10\n",
              "ProstateX-0005    10\n",
              "ProstateX-0002    10\n",
              "ProstateX-0015     5\n",
              "Name: ProxID, dtype: int64"
            ]
          },
          "metadata": {},
          "execution_count": 9
        }
      ],
      "source": [
        "#Patients with more than 1 lesion\n",
        "(data['ProxID'].value_counts())[:13]\n",
        "\n",
        "#There are 12 patients with more than 1 lesion(1 patient with 3 lesions- 3*3MRI sequences=9, Similarly 11 patients with 2 lesions )"
      ]
    },
    {
      "cell_type": "code",
      "execution_count": null,
      "metadata": {
        "id": "6PHW-dhU1-0A"
      },
      "outputs": [],
      "source": [
        "t2_samples1 = np.load('/content/drive/MyDrive/Prostate-X/Train/numpy/ijk/t2tra/X_train_ijk.npy')\n",
        "t2_labels1 = np.load('/content/drive/MyDrive/Prostate-X/Train/numpy/ijk/t2tra/Y_train_ijk.npy')\n",
        "\n",
        "t2_samples2 = np.load('/content/drive/MyDrive/Prostate-X/Train/numpy/ijk/adc/X_train_ijk.npy')\n",
        "t2_labels2 = np.load('/content/drive/MyDrive/Prostate-X/Train/numpy/ijk/adc/Y_train_ijk.npy')\n",
        "\n",
        "t2_samples3 = np.load('/content/drive/MyDrive/Prostate-X/Train/numpy/ijk/bval/X_train_ijk.npy')\n",
        "t2_labels3 = np.load('/content/drive/MyDrive/Prostate-X/Train/numpy/ijk/bval/Y_train_ijk.npy')"
      ]
    },
    {
      "cell_type": "code",
      "execution_count": null,
      "metadata": {
        "id": "vX9AZJmc1-0C"
      },
      "outputs": [],
      "source": [
        "t2_samples1 = np.array(t2_samples1, dtype=np.float32, copy = True)\n",
        "t2_samples2 = np.array(t2_samples2, dtype=np.float32, copy = True)\n",
        "t2_samples3 = np.array(t2_samples3, dtype=np.float32, copy = True)"
      ]
    },
    {
      "cell_type": "code",
      "execution_count": null,
      "metadata": {
        "id": "1dKXCMlL5v2l"
      },
      "outputs": [],
      "source": [
        "t2_samples1 = t2_samples1[:115]\n",
        "t2_labels1 = t2_labels1[:115]"
      ]
    },
    {
      "cell_type": "code",
      "execution_count": null,
      "metadata": {
        "id": "LNvZUge16PZv",
        "colab": {
          "base_uri": "https://localhost:8080/"
        },
        "outputId": "013891db-c52d-451b-dc26-0a29dd4a02aa"
      },
      "outputs": [
        {
          "output_type": "execute_result",
          "data": {
            "text/plain": [
              "(115, 224, 224, 3)"
            ]
          },
          "metadata": {},
          "execution_count": 18
        }
      ],
      "source": [
        "t2_samples3.shape"
      ]
    },
    {
      "cell_type": "code",
      "execution_count": null,
      "metadata": {
        "id": "WyZ-n_vP7Bxv",
        "colab": {
          "base_uri": "https://localhost:8080/"
        },
        "outputId": "99d97933-c8f5-417d-c220-ec4434fd0c64"
      },
      "outputs": [
        {
          "output_type": "execute_result",
          "data": {
            "text/plain": [
              "(115,)"
            ]
          },
          "metadata": {},
          "execution_count": 19
        }
      ],
      "source": [
        "t2_labels3.shape"
      ]
    },
    {
      "cell_type": "code",
      "execution_count": null,
      "metadata": {
        "id": "-e7KuvZi1-0E",
        "colab": {
          "base_uri": "https://localhost:8080/"
        },
        "outputId": "1861b7be-ed5d-4f5e-ac68-238f39fb4eda"
      },
      "outputs": [
        {
          "output_type": "stream",
          "name": "stdout",
          "text": [
            "X_t2_train shape:  (80, 224, 224, 3) \n",
            "Y_t2_train shape:  (80,)\n",
            "X_t2_test shape:  (35, 224, 224, 3) \n",
            "Y_t2_test shape:  (35,)\n"
          ]
        }
      ],
      "source": [
        "from sklearn.model_selection import train_test_split\n",
        "x_t2_train, x_t2_test, y_t2_train, y_t2_test = train_test_split(t2_samples1, t2_labels1, test_size=0.30, random_state=seed_value,shuffle=True, stratify=t2_labels1)\n",
        "\n",
        "print(\"X_t2_train shape: \",x_t2_train.shape, \"\\nY_t2_train shape: \",y_t2_train.shape)\n",
        "print(\"X_t2_test shape: \",x_t2_test.shape, \"\\nY_t2_test shape: \",y_t2_test.shape)\n"
      ]
    },
    {
      "cell_type": "code",
      "execution_count": null,
      "metadata": {
        "id": "pfWlkWz71-0E",
        "colab": {
          "base_uri": "https://localhost:8080/"
        },
        "outputId": "56bfedd6-a063-48dc-a415-e95e3a55ffbc"
      },
      "outputs": [
        {
          "output_type": "stream",
          "name": "stdout",
          "text": [
            "X_adc_train shape:  (80, 224, 224, 3) \n",
            "Y_adc_train shape:  (80,)\n",
            "X_adc_test shape:  (35, 224, 224, 3) \n",
            "Y_adc_test shape:  (35,)\n"
          ]
        }
      ],
      "source": [
        "from sklearn.model_selection import train_test_split\n",
        "x_adc_train, x_adc_test, y_adc_train, y_adc_test = train_test_split(t2_samples2, t2_labels2, test_size=0.30, random_state=seed_value,shuffle=True, stratify=t2_labels2)\n",
        "\n",
        "print(\"X_adc_train shape: \",x_adc_train.shape, \"\\nY_adc_train shape: \",y_adc_train.shape)\n",
        "print(\"X_adc_test shape: \",x_adc_test.shape, \"\\nY_adc_test shape: \",y_adc_test.shape)\n"
      ]
    },
    {
      "cell_type": "code",
      "execution_count": null,
      "metadata": {
        "id": "3xxIKSO41-0F",
        "colab": {
          "base_uri": "https://localhost:8080/"
        },
        "outputId": "4b4570d7-9d15-4e95-84fa-b32a22130ce4"
      },
      "outputs": [
        {
          "output_type": "stream",
          "name": "stdout",
          "text": [
            "X_bval_train shape:  (80, 224, 224, 3) \n",
            "Y_bval_train shape:  (80,)\n",
            "X_bval_test shape:  (35, 224, 224, 3) \n",
            "Y_bval_test shape:  (35,)\n"
          ]
        }
      ],
      "source": [
        "from sklearn.model_selection import train_test_split\n",
        "x_bval_train, x_bval_test, y_bval_train, y_bval_test = train_test_split(t2_samples3, t2_labels3, test_size=0.30, random_state=seed_value,shuffle=True, stratify=t2_labels3)\n",
        "\n",
        "print(\"X_bval_train shape: \",x_bval_train.shape, \"\\nY_bval_train shape: \",y_bval_train.shape)\n",
        "print(\"X_bval_test shape: \",x_bval_test.shape, \"\\nY_bval_test shape: \",y_bval_test.shape)\n"
      ]
    },
    {
      "cell_type": "code",
      "execution_count": null,
      "metadata": {
        "id": "FScxlHRG1-0H",
        "colab": {
          "base_uri": "https://localhost:8080/"
        },
        "outputId": "2577f4d2-747b-43de-ece8-35a8309626a9"
      },
      "outputs": [
        {
          "output_type": "execute_result",
          "data": {
            "text/plain": [
              "{1: 26, 2: 30, 3: 13, 4: 6, 5: 5}"
            ]
          },
          "metadata": {},
          "execution_count": 18
        }
      ],
      "source": [
        "unique, counts = np.unique(y_bval_train, return_counts=True)\n",
        "dict(zip(unique, counts))"
      ]
    },
    {
      "cell_type": "code",
      "execution_count": null,
      "metadata": {
        "id": "uAG_sj-Z1-0I",
        "colab": {
          "base_uri": "https://localhost:8080/"
        },
        "outputId": "b4ffd33f-0c66-4995-d282-a6e72de79c09"
      },
      "outputs": [
        {
          "output_type": "execute_result",
          "data": {
            "text/plain": [
              "{1: 26, 2: 30, 3: 13, 4: 6, 5: 5}"
            ]
          },
          "metadata": {},
          "execution_count": 19
        }
      ],
      "source": [
        "unique, counts = np.unique(y_adc_train, return_counts=True)\n",
        "dict(zip(unique, counts))"
      ]
    },
    {
      "cell_type": "code",
      "execution_count": null,
      "metadata": {
        "id": "5mUXXj4I1-0J",
        "colab": {
          "base_uri": "https://localhost:8080/"
        },
        "outputId": "e0e2ea4e-63f9-4150-cd5a-bba5cd82f5d7"
      },
      "outputs": [
        {
          "output_type": "execute_result",
          "data": {
            "text/plain": [
              "{1: 12, 2: 13, 3: 6, 4: 2, 5: 2}"
            ]
          },
          "metadata": {},
          "execution_count": 20
        }
      ],
      "source": [
        "unique, counts = np.unique(y_adc_test, return_counts=True)\n",
        "dict(zip(unique, counts))"
      ]
    },
    {
      "cell_type": "code",
      "execution_count": null,
      "metadata": {
        "id": "meU4MiYG1-0J",
        "colab": {
          "base_uri": "https://localhost:8080/"
        },
        "outputId": "11225a3b-5adf-42e6-8e96-24224c7f2c60"
      },
      "outputs": [
        {
          "output_type": "execute_result",
          "data": {
            "text/plain": [
              "{1: 15, 2: 13, 3: 5, 4: 1, 5: 1}"
            ]
          },
          "metadata": {},
          "execution_count": 21
        }
      ],
      "source": [
        "unique, counts = np.unique(y_t2_test, return_counts=True)\n",
        "dict(zip(unique, counts))"
      ]
    },
    {
      "cell_type": "markdown",
      "metadata": {
        "id": "TYh_OBpv1-0K"
      },
      "source": [
        "## DATA AUGMENTATION ON TRAIN"
      ]
    },
    {
      "cell_type": "code",
      "execution_count": null,
      "metadata": {
        "id": "KQFpN4px1-0K",
        "colab": {
          "base_uri": "https://localhost:8080/"
        },
        "outputId": "b51a565e-575d-43ae-c15a-ec0f7924a242"
      },
      "outputs": [
        {
          "output_type": "stream",
          "name": "stderr",
          "text": [
            "<ipython-input-22-bc4ccc92eaab>:11: DeprecationWarning: Please use `rotate` from the `scipy.ndimage` namespace, the `scipy.ndimage.interpolation` namespace is deprecated.\n",
            "  image1[i] = ndimage.interpolation.rotate(T, angle, mode='nearest', axes=(0, 1), reshape=False)# rotating in xy plane\n",
            "<ipython-input-22-bc4ccc92eaab>:13: DeprecationWarning: Please use `rotate` from the `scipy.ndimage` namespace, the `scipy.ndimage.interpolation` namespace is deprecated.\n",
            "  image2[i] = ndimage.interpolation.rotate(T, angle, mode='nearest', axes=(0, 1), reshape=False)\n"
          ]
        }
      ],
      "source": [
        "## T2\n",
        "\n",
        "image1 = np.empty([80, 224, 224, 3])\n",
        "image2 = np.empty([80, 224, 224, 3])\n",
        "\n",
        "\n",
        "for i in range (0,len(x_t2_train)):\n",
        "    T=x_t2_train[i]\n",
        "    angles = [80.0, 170, -170.0, -80.0]\n",
        "    angle = random.choice(angles)\n",
        "    image1[i] = ndimage.interpolation.rotate(T, angle, mode='nearest', axes=(0, 1), reshape=False)# rotating in xy plane\n",
        "    angle = random.choice(angles)\n",
        "    image2[i] = ndimage.interpolation.rotate(T, angle, mode='nearest', axes=(0, 1), reshape=False)"
      ]
    },
    {
      "cell_type": "code",
      "execution_count": null,
      "metadata": {
        "id": "lnF8Wpee1-0L",
        "colab": {
          "base_uri": "https://localhost:8080/",
          "height": 187
        },
        "outputId": "17a1df22-d19c-468b-f6f3-6795f3968147"
      },
      "outputs": [
        {
          "output_type": "error",
          "ename": "NameError",
          "evalue": "ignored",
          "traceback": [
            "\u001b[0;31m---------------------------------------------------------------------------\u001b[0m",
            "\u001b[0;31mNameError\u001b[0m                                 Traceback (most recent call last)",
            "\u001b[0;32m<ipython-input-12-d155e0bb64a2>\u001b[0m in \u001b[0;36m<module>\u001b[0;34m\u001b[0m\n\u001b[0;32m----> 1\u001b[0;31m \u001b[0mx_t2_train\u001b[0m \u001b[0;34m=\u001b[0m \u001b[0mnp\u001b[0m\u001b[0;34m.\u001b[0m\u001b[0mconcatenate\u001b[0m\u001b[0;34m(\u001b[0m\u001b[0;34m(\u001b[0m\u001b[0mx_t2_train\u001b[0m\u001b[0;34m,\u001b[0m \u001b[0mimage1\u001b[0m\u001b[0;34m,\u001b[0m \u001b[0mimage2\u001b[0m\u001b[0;34m)\u001b[0m\u001b[0;34m,\u001b[0m \u001b[0maxis\u001b[0m\u001b[0;34m=\u001b[0m\u001b[0;36m0\u001b[0m\u001b[0;34m)\u001b[0m\u001b[0;34m\u001b[0m\u001b[0;34m\u001b[0m\u001b[0m\n\u001b[0m\u001b[1;32m      2\u001b[0m \u001b[0my_t2_train\u001b[0m \u001b[0;34m=\u001b[0m \u001b[0mnp\u001b[0m\u001b[0;34m.\u001b[0m\u001b[0mconcatenate\u001b[0m\u001b[0;34m(\u001b[0m\u001b[0;34m(\u001b[0m\u001b[0my_t2_train\u001b[0m\u001b[0;34m,\u001b[0m \u001b[0my_t2_train\u001b[0m\u001b[0;34m,\u001b[0m \u001b[0my_t2_train\u001b[0m\u001b[0;34m)\u001b[0m\u001b[0;34m,\u001b[0m \u001b[0maxis\u001b[0m\u001b[0;34m=\u001b[0m\u001b[0;36m0\u001b[0m\u001b[0;34m)\u001b[0m\u001b[0;34m\u001b[0m\u001b[0;34m\u001b[0m\u001b[0m\n",
            "\u001b[0;31mNameError\u001b[0m: name 'x_t2_train' is not defined"
          ]
        }
      ],
      "source": [
        "x_t2_train = np.concatenate((x_t2_train, image1, image2), axis=0)\n",
        "y_t2_train = np.concatenate((y_t2_train, y_t2_train, y_t2_train), axis=0)"
      ]
    },
    {
      "cell_type": "code",
      "execution_count": null,
      "metadata": {
        "id": "bdKbf8bJ1-0L",
        "colab": {
          "base_uri": "https://localhost:8080/"
        },
        "outputId": "73d4a65c-6834-4dae-9fd4-adfe7d295170"
      },
      "outputs": [
        {
          "output_type": "stream",
          "name": "stderr",
          "text": [
            "<ipython-input-24-930cceca4b84>:11: DeprecationWarning: Please use `rotate` from the `scipy.ndimage` namespace, the `scipy.ndimage.interpolation` namespace is deprecated.\n",
            "  image1[i] = ndimage.interpolation.rotate(T, angle, mode='nearest', axes=(0, 1), reshape=False)\n",
            "<ipython-input-24-930cceca4b84>:13: DeprecationWarning: Please use `rotate` from the `scipy.ndimage` namespace, the `scipy.ndimage.interpolation` namespace is deprecated.\n",
            "  image2[i] = ndimage.interpolation.rotate(T, angle, mode='nearest', axes=(0, 1), reshape=False)\n"
          ]
        }
      ],
      "source": [
        "## ADC\n",
        "\n",
        "image1 = np.empty([80, 224, 224, 3])  # Shape of train\n",
        "image2 = np.empty([80, 224, 224, 3])\n",
        "\n",
        "\n",
        "for i in range (0,len(x_adc_train)):\n",
        "    T=x_adc_train[i]\n",
        "    angles = [80.0, 170, -170.0, -80.0]\n",
        "    angle = random.choice(angles)\n",
        "    image1[i] = ndimage.interpolation.rotate(T, angle, mode='nearest', axes=(0, 1), reshape=False)\n",
        "    angle = random.choice(angles)\n",
        "    image2[i] = ndimage.interpolation.rotate(T, angle, mode='nearest', axes=(0, 1), reshape=False)"
      ]
    },
    {
      "cell_type": "code",
      "execution_count": null,
      "metadata": {
        "id": "ULGnPTnO1-0M"
      },
      "outputs": [],
      "source": [
        "x_adc_train = np.concatenate((x_adc_train, image1, image2), axis=0)\n",
        "y_adc_train = np.concatenate((y_adc_train, y_adc_train, y_adc_train), axis=0)"
      ]
    },
    {
      "cell_type": "code",
      "execution_count": null,
      "metadata": {
        "id": "o9QZfXS-1-0M",
        "colab": {
          "base_uri": "https://localhost:8080/"
        },
        "outputId": "327e1e29-a85d-4358-cbbe-a659a12efc68"
      },
      "outputs": [
        {
          "output_type": "stream",
          "name": "stderr",
          "text": [
            "<ipython-input-26-1907497c19fc>:12: DeprecationWarning: Please use `rotate` from the `scipy.ndimage` namespace, the `scipy.ndimage.interpolation` namespace is deprecated.\n",
            "  image1[i] = ndimage.interpolation.rotate(T, angle, mode='nearest', axes=(0, 1), reshape=False)\n",
            "<ipython-input-26-1907497c19fc>:14: DeprecationWarning: Please use `rotate` from the `scipy.ndimage` namespace, the `scipy.ndimage.interpolation` namespace is deprecated.\n",
            "  image2[i] = ndimage.interpolation.rotate(T, angle, mode='nearest', axes=(0, 1), reshape=False)\n"
          ]
        }
      ],
      "source": [
        "## BVal\n",
        "\n",
        "image1 = np.empty([80, 224, 224, 3])\n",
        "image2 = np.empty([80, 224, 224, 3])\n",
        "\n",
        "\n",
        "for i in range (0,len(x_bval_train)):\n",
        "    T=x_bval_train[i]\n",
        "    angles = [80.0, 170, -170.0, -80.0]\n",
        "    # pick angles at random\n",
        "    angle = random.choice(angles)\n",
        "    image1[i] = ndimage.interpolation.rotate(T, angle, mode='nearest', axes=(0, 1), reshape=False)\n",
        "    angle = random.choice(angles)\n",
        "    image2[i] = ndimage.interpolation.rotate(T, angle, mode='nearest', axes=(0, 1), reshape=False)"
      ]
    },
    {
      "cell_type": "code",
      "execution_count": null,
      "metadata": {
        "id": "QTv55Rvy1-0N"
      },
      "outputs": [],
      "source": [
        "x_bval_train = np.concatenate((x_bval_train, image1, image2), axis=0)\n",
        "y_bval_train = np.concatenate((y_bval_train, y_bval_train, y_bval_train), axis=0)"
      ]
    },
    {
      "cell_type": "code",
      "execution_count": null,
      "metadata": {
        "colab": {
          "base_uri": "https://localhost:8080/"
        },
        "id": "3wgrhDpC1-0N",
        "outputId": "10b01a5a-329b-4c02-a76f-1bdcd16e061d"
      },
      "outputs": [
        {
          "output_type": "execute_result",
          "data": {
            "text/plain": [
              "True"
            ]
          },
          "metadata": {},
          "execution_count": 28
        }
      ],
      "source": [
        "np.array_equal(y_adc_train,y_bval_train)"
      ]
    },
    {
      "cell_type": "code",
      "execution_count": null,
      "metadata": {
        "colab": {
          "base_uri": "https://localhost:8080/"
        },
        "id": "I-MZAVnG1-0N",
        "outputId": "883d7578-6150-4012-c888-b3204efedbb1"
      },
      "outputs": [
        {
          "output_type": "execute_result",
          "data": {
            "text/plain": [
              "False"
            ]
          },
          "metadata": {},
          "execution_count": 29
        }
      ],
      "source": [
        "np.array_equal(y_t2_train,y_bval_train)"
      ]
    },
    {
      "cell_type": "code",
      "execution_count": null,
      "metadata": {
        "colab": {
          "base_uri": "https://localhost:8080/"
        },
        "id": "DpwF99d21-0O",
        "outputId": "49a0a1a2-24d6-45e7-facf-dd2b58bd59f9"
      },
      "outputs": [
        {
          "output_type": "stream",
          "name": "stdout",
          "text": [
            "X_adc_train shape:  (240, 224, 224, 3) \n",
            "Y_adc_train shape:  (240,)\n",
            "X_adc_test shape:  (35, 224, 224, 3) \n",
            "Y_adc_test shape:  (35,)\n"
          ]
        }
      ],
      "source": [
        "# should be same for adc, bval and t2\n",
        "\n",
        "print(\"X_adc_train shape: \",x_adc_train.shape, \"\\nY_adc_train shape: \",y_adc_train.shape)\n",
        "print(\"X_adc_test shape: \",x_adc_test.shape, \"\\nY_adc_test shape: \",y_adc_test.shape)\n"
      ]
    },
    {
      "cell_type": "code",
      "execution_count": null,
      "metadata": {
        "id": "6ge7lL_z1-0O"
      },
      "outputs": [],
      "source": [
        "x_adc_train= (np.expand_dims(x_adc_train, axis = 4))\n",
        "x_t2_train= (np.expand_dims(x_t2_train, axis = 4))\n",
        "#x_bval_train= (np.expand_dims(x_bval_train, axis = 4))"
      ]
    },
    {
      "cell_type": "code",
      "execution_count": null,
      "metadata": {
        "id": "KCbJ9KgF1-0O"
      },
      "outputs": [],
      "source": [
        "x_adc_test= (np.expand_dims(x_adc_test, axis = 4))\n",
        "x_t2_test= (np.expand_dims(x_t2_test, axis = 4))\n",
        "#x_bval_test= (np.expand_dims(x_bval_test, axis = 4))"
      ]
    },
    {
      "cell_type": "code",
      "execution_count": null,
      "metadata": {
        "colab": {
          "base_uri": "https://localhost:8080/",
          "height": 169
        },
        "id": "VJ_gTb8g1-0P",
        "outputId": "1d0f89d6-5eec-42f0-e6c6-b8373cfe89d6"
      },
      "outputs": [
        {
          "output_type": "error",
          "ename": "NameError",
          "evalue": "ignored",
          "traceback": [
            "\u001b[0;31m---------------------------------------------------------------------------\u001b[0m",
            "\u001b[0;31mNameError\u001b[0m                                 Traceback (most recent call last)",
            "\u001b[0;32m<ipython-input-45-c5f1f3daf045>\u001b[0m in \u001b[0;36m<module>\u001b[0;34m\u001b[0m\n\u001b[0;32m----> 1\u001b[0;31m \u001b[0mx_adc_train\u001b[0m\u001b[0;34m.\u001b[0m\u001b[0mshape\u001b[0m\u001b[0;34m\u001b[0m\u001b[0;34m\u001b[0m\u001b[0m\n\u001b[0m",
            "\u001b[0;31mNameError\u001b[0m: name 'x_adc_train' is not defined"
          ]
        }
      ],
      "source": [
        "x_adc_train.shape"
      ]
    },
    {
      "cell_type": "code",
      "execution_count": null,
      "metadata": {
        "colab": {
          "base_uri": "https://localhost:8080/"
        },
        "id": "nA2RR1N11-0Q",
        "outputId": "55ff3aaa-7466-4291-ffca-acfb140efe47"
      },
      "outputs": [
        {
          "output_type": "execute_result",
          "data": {
            "text/plain": [
              "(35, 224, 224, 3)"
            ]
          },
          "metadata": {},
          "execution_count": 34
        }
      ],
      "source": [
        "x_bval_test.shape"
      ]
    },
    {
      "cell_type": "code",
      "source": [],
      "metadata": {
        "id": "uD_hxkPwk-sz"
      },
      "execution_count": null,
      "outputs": []
    },
    {
      "cell_type": "code",
      "execution_count": null,
      "metadata": {
        "id": "FvN1TK4F1-0R"
      },
      "outputs": [],
      "source": [
        "#Feature extraction for Train data"
      ]
    },
    {
      "cell_type": "code",
      "source": [
        "def VGG19_prostate():\n",
        "    model = Sequential()\n",
        "    model.add(Conv2D(input_shape=(224, 224, 3), filters=64, kernel_size=(3,3), padding='same', activation='relu'))\n",
        "    model.add(Conv2D(filters=64, kernel_size=(3,3), padding='same', activation='relu'))\n",
        "    model.add(MaxPooling2D(pool_size=(2,2), strides=(2,2)))\n",
        "    model.add(Conv2D(filters=128, kernel_size=(3,3), padding='same', activation='relu'))\n",
        "    model.add(Conv2D(filters=128, kernel_size=(3,3), padding='same', activation='relu'))\n",
        "    model.add(MaxPooling2D(pool_size=(2,2), strides=(2,2)))\n",
        "    model.add(Conv2D(filters=256, kernel_size=(3,3), padding='same', activation='relu'))\n",
        "    model.add(Conv2D(filters=256, kernel_size=(3,3), padding='same', activation='relu'))\n",
        "    model.add(Conv2D(filters=256, kernel_size=(3,3), padding='same', activation='relu'))\n",
        "    model.add(Conv2D(filters=256, kernel_size=(3,3), padding='same', activation='relu'))\n",
        "    model.add(MaxPooling2D(pool_size=(2,2), strides=(2,2)))\n",
        "    model.add(Conv2D(filters=512, kernel_size=(3,3), padding='same', activation='relu'))\n",
        "    model.add(Conv2D(filters=512, kernel_size=(3,3), padding='same', activation='relu'))\n",
        "    model.add(Conv2D(filters=512, kernel_size=(3,3), padding='same', activation='relu'))\n",
        "    model.add(Conv2D(filters=512, kernel_size=(3,3), padding='same', activation='relu'))\n",
        "    model.add(MaxPooling2D(pool_size=(2,2), strides=(2,2)))\n",
        "    model.add(Conv2D(filters=512, kernel_size=(3,3), padding='same', activation='relu'))\n",
        "    model.add(Conv2D(filters=512, kernel_size=(3,3), padding='same', activation='relu'))\n",
        "    model.add(Conv2D(filters=512, kernel_size=(3,3), padding='same', activation='relu'))\n",
        "    model.add(Conv2D(filters=512, kernel_size=(3,3), padding='same', activation='relu'))\n",
        "    model.add(MaxPooling2D(pool_size=(2,2), strides=(2,2)))\n",
        "    model.add(Flatten())\n",
        "    model.add(Dense(units=6, activation='relu'))\n",
        "    model.add(Dense(units=6, activation='relu'))\n",
        "    model.add(Dense(units=6, activation='softmax'))\n",
        "    return model\n"
      ],
      "metadata": {
        "id": "fmzBQvcx1_oh"
      },
      "execution_count": null,
      "outputs": []
    },
    {
      "cell_type": "code",
      "source": [
        "x_t2_train.shape"
      ],
      "metadata": {
        "colab": {
          "base_uri": "https://localhost:8080/"
        },
        "id": "sbSzqjP_EvJs",
        "outputId": "3053daf9-8373-4f89-9480-3b062c62236b"
      },
      "execution_count": null,
      "outputs": [
        {
          "output_type": "execute_result",
          "data": {
            "text/plain": [
              "(80, 224, 224, 3)"
            ]
          },
          "metadata": {},
          "execution_count": 47
        }
      ]
    },
    {
      "cell_type": "code",
      "source": [
        "from keras.utils import to_categorical\n",
        "\n",
        "# Convert the training labels to one-hot encoded format\n",
        "#y_t2_train_onehot = to_categorical(y_t2_train, num_classes=5)"
      ],
      "metadata": {
        "id": "ZiDzWTqnJDA3"
      },
      "execution_count": null,
      "outputs": []
    },
    {
      "cell_type": "code",
      "source": [
        "model.summary()"
      ],
      "metadata": {
        "id": "T0bHuwwDJCrC",
        "colab": {
          "base_uri": "https://localhost:8080/"
        },
        "outputId": "92351f7e-8b30-4e15-cde0-3f0b7cbddffc"
      },
      "execution_count": null,
      "outputs": [
        {
          "output_type": "stream",
          "name": "stdout",
          "text": [
            "Model: \"sequential_4\"\n",
            "_________________________________________________________________\n",
            " Layer (type)                Output Shape              Param #   \n",
            "=================================================================\n",
            " conv2d_64 (Conv2D)          (None, 224, 224, 64)      1792      \n",
            "                                                                 \n",
            " conv2d_65 (Conv2D)          (None, 224, 224, 64)      36928     \n",
            "                                                                 \n",
            " max_pooling2d_20 (MaxPoolin  (None, 112, 112, 64)     0         \n",
            " g2D)                                                            \n",
            "                                                                 \n",
            " conv2d_66 (Conv2D)          (None, 112, 112, 128)     73856     \n",
            "                                                                 \n",
            " conv2d_67 (Conv2D)          (None, 112, 112, 128)     147584    \n",
            "                                                                 \n",
            " max_pooling2d_21 (MaxPoolin  (None, 56, 56, 128)      0         \n",
            " g2D)                                                            \n",
            "                                                                 \n",
            " conv2d_68 (Conv2D)          (None, 56, 56, 256)       295168    \n",
            "                                                                 \n",
            " conv2d_69 (Conv2D)          (None, 56, 56, 256)       590080    \n",
            "                                                                 \n",
            " conv2d_70 (Conv2D)          (None, 56, 56, 256)       590080    \n",
            "                                                                 \n",
            " conv2d_71 (Conv2D)          (None, 56, 56, 256)       590080    \n",
            "                                                                 \n",
            " max_pooling2d_22 (MaxPoolin  (None, 28, 28, 256)      0         \n",
            " g2D)                                                            \n",
            "                                                                 \n",
            " conv2d_72 (Conv2D)          (None, 28, 28, 512)       1180160   \n",
            "                                                                 \n",
            " conv2d_73 (Conv2D)          (None, 28, 28, 512)       2359808   \n",
            "                                                                 \n",
            " conv2d_74 (Conv2D)          (None, 28, 28, 512)       2359808   \n",
            "                                                                 \n",
            " conv2d_75 (Conv2D)          (None, 28, 28, 512)       2359808   \n",
            "                                                                 \n",
            " max_pooling2d_23 (MaxPoolin  (None, 14, 14, 512)      0         \n",
            " g2D)                                                            \n",
            "                                                                 \n",
            " conv2d_76 (Conv2D)          (None, 14, 14, 512)       2359808   \n",
            "                                                                 \n",
            " conv2d_77 (Conv2D)          (None, 14, 14, 512)       2359808   \n",
            "                                                                 \n",
            " conv2d_78 (Conv2D)          (None, 14, 14, 512)       2359808   \n",
            "                                                                 \n",
            " conv2d_79 (Conv2D)          (None, 14, 14, 512)       2359808   \n",
            "                                                                 \n",
            " max_pooling2d_24 (MaxPoolin  (None, 7, 7, 512)        0         \n",
            " g2D)                                                            \n",
            "                                                                 \n",
            " flatten_4 (Flatten)         (None, 25088)             0         \n",
            "                                                                 \n",
            " dense_12 (Dense)            (None, 6)                 150534    \n",
            "                                                                 \n",
            " dense_13 (Dense)            (None, 6)                 42        \n",
            "                                                                 \n",
            " dense_14 (Dense)            (None, 6)                 42        \n",
            "                                                                 \n",
            "=================================================================\n",
            "Total params: 20,175,002\n",
            "Trainable params: 20,175,002\n",
            "Non-trainable params: 0\n",
            "_________________________________________________________________\n"
          ]
        }
      ]
    },
    {
      "cell_type": "code",
      "source": [
        "def VGG16():\n",
        "  model = Sequential()\n",
        "  model.add(Conv2D(input_shape=(224,224,3),filters=64,kernel_size=(3,3),padding='same',activation='relu'))\n",
        "\n",
        "  model.add(Conv2D(filters=64,kernel_size=(3,3),padding='same', activation='relu'))\n",
        "\n",
        "  model.add(MaxPool2D(pool_size=(2,2),strides=(2,2)))\n",
        "\n",
        "  model.add(Conv2D(filters=128, kernel_size=(3,3), padding='same', activation='relu'))\n",
        "\n",
        "  model.add(Conv2D(filters=128, kernel_size=(3,3), padding='same', activation='relu'))\n",
        "\n",
        "  model.add(MaxPool2D(pool_size=(2,2),strides=(2,2)))\n",
        "\n",
        "  model.add(Conv2D(filters=256, kernel_size=(3,3), padding='same', activation='relu'))\n",
        "\n",
        "  model.add(Conv2D(filters=256, kernel_size=(3,3),padding='same', activation='relu'))\n",
        "\n",
        "  model.add(Conv2D(filters=256, kernel_size=(3,3),padding='same', activation='relu'))\n",
        "\n",
        "  model.add(MaxPool2D(pool_size=(2,2),strides=(2,2)))\n",
        "\n",
        "  model.add(Conv2D(filters=512, kernel_size=(3,3), padding='same', activation='relu'))\n",
        "\n",
        "  model.add(Conv2D(filters=512, kernel_size=(3,3), padding='same', activation='relu'))\n",
        "\n",
        "  model.add(Conv2D(filters=512, kernel_size=(3,3), padding='same', activation='relu'))\n",
        "\n",
        "  model.add(MaxPool2D(pool_size=(2,2),strides=(2,2)))\n",
        "\n",
        "  model.add(Conv2D(filters=512, kernel_size=(3,3), padding='same', activation='relu'))\n",
        "\n",
        "  model.add(Conv2D(filters=512, kernel_size=(3,3), padding='same', activation='relu'))\n",
        "\n",
        "  model.add(Conv2D(filters=512, kernel_size=(3,3), padding='same', activation='relu'))\n",
        "\n",
        "  model.add(MaxPool2D(pool_size=(2,2),strides=(2,2),name='vgg16'))\n",
        "\n",
        "  model.add(Flatten(name='flatten'))\n",
        "\n",
        "  model.add(Dense(256, activation='relu', name='fc1'))\n",
        "\n",
        "  model.add(Dense(128, activation='relu', name='fc2'))\n",
        "\n",
        "  model.add(Dense(5, activation='softmax', name='output'))\n",
        "\n",
        "  return model"
      ],
      "metadata": {
        "id": "SbmBfUy_Hnzt"
      },
      "execution_count": null,
      "outputs": []
    },
    {
      "cell_type": "code",
      "source": [
        "model=VGG16()\n",
        "\n",
        "model.summary()\n",
        "\n",
        "Vgg16 = Model(inputs=model.input, outputs=model.get_layer('vgg16').output)"
      ],
      "metadata": {
        "id": "eImgV9pFJiV4"
      },
      "execution_count": null,
      "outputs": []
    },
    {
      "cell_type": "code",
      "source": [
        "opt = SGD(learning_rate=1e-6, momentum=0.9)\n",
        "\n",
        "model.compile(loss='categorical_crossentropy', optimizer=opt,metrics=['accuracy'])"
      ],
      "metadata": {
        "id": "rCOrOFgRLsPD"
      },
      "execution_count": null,
      "outputs": []
    },
    {
      "cell_type": "code",
      "source": [
        "model.fit_generator(x_adc_train,validation_data=x_adc_test,epochs=50,verbose=1).print(1)"
      ],
      "metadata": {
        "id": "HqX2nz8DMH76"
      },
      "execution_count": null,
      "outputs": []
    },
    {
      "cell_type": "code",
      "execution_count": null,
      "metadata": {
        "id": "X1RTP72Y1-0R"
      },
      "outputs": [],
      "source": [
        "from pickle import dump\n",
        "\n",
        "model = VGG19()\n",
        "model = Model(inputs=model.inputs, outputs=model.output)\n",
        "group_t2 = x_t2_train\n",
        "features = model.predict(group_t2)\n",
        "print(features.shape)\n",
        "dump(features, open('group_t2.npy', 'wb'))"
      ]
    },
    {
      "cell_type": "code",
      "execution_count": null,
      "metadata": {
        "id": "u7Ohe9CK4Fis"
      },
      "outputs": [],
      "source": [
        "model.summary()"
      ]
    },
    {
      "cell_type": "code",
      "execution_count": null,
      "metadata": {
        "id": "2oASiw1z1-0S"
      },
      "outputs": [],
      "source": [
        "from pickle import dump\n",
        "model = VGG19(input_shape=IMAGE_SIZE + [3], weights='imagenet', include_top=False)\n",
        "model = Model(inputs=model.inputs, outputs=model.output)\n",
        "group_adc = x_adc_train\n",
        "features = model.predict(group_adc)\n",
        "print(features.shape)\n",
        "dump(features, open('group_adc.npy', 'wb'))"
      ]
    },
    {
      "cell_type": "code",
      "execution_count": null,
      "metadata": {
        "id": "RjOtaAaW1-0T"
      },
      "outputs": [],
      "source": [
        "from pickle import dump\n",
        "model = VGG19()\n",
        "model = Model(inputs=model.inputs, outputs=model.output)\n",
        "group_bval = x_bval_train\n",
        "features = model.predict(group_bval)\n",
        "print(features.shape)\n",
        "dump(features, open('group_bval.npy', 'wb'))"
      ]
    },
    {
      "cell_type": "code",
      "execution_count": null,
      "metadata": {
        "id": "fXohsMjJ1-0T"
      },
      "outputs": [],
      "source": [
        "x_t2 = np.load(\"/content/group_t2.npy\",allow_pickle=True)\n",
        "x_adc = np.load('/content/group_adc.npy',allow_pickle=True)\n",
        "x_bval = np.load('/content/group_bval.npy',allow_pickle=True)"
      ]
    },
    {
      "cell_type": "code",
      "execution_count": null,
      "metadata": {
        "id": "_WbBVySB4dO3"
      },
      "outputs": [],
      "source": [
        "print(x_t2.shape,x_adc.shape,x_bval.shape)"
      ]
    },
    {
      "cell_type": "code",
      "execution_count": null,
      "metadata": {
        "id": "1tGRIcv_1-0U"
      },
      "outputs": [],
      "source": [
        "X_train = np.concatenate((x_t2, x_adc,x_bval), axis=1)\n",
        "X_train.shape"
      ]
    },
    {
      "cell_type": "code",
      "execution_count": null,
      "metadata": {
        "id": "N9_pTP6D1-0U"
      },
      "outputs": [],
      "source": [
        "model = VGG19()\n",
        "model = Model(inputs=model.inputs, outputs=model.output)\n",
        "group_t2 = x_t2_test\n",
        "features = model.predict(group_t2)\n",
        "print(features.shape)\n",
        "dump(features, open('group_t2_test.npy', 'wb'))"
      ]
    },
    {
      "cell_type": "code",
      "execution_count": null,
      "metadata": {
        "id": "Ch874Ieo1-0V"
      },
      "outputs": [],
      "source": [
        "model = VGG19()\n",
        "model = Model(inputs=model.inputs, outputs=model.output)\n",
        "group_adc = x_adc_test\n",
        "features = model.predict(group_adc)\n",
        "print(features.shape)\n",
        "dump(features, open('group_adc_test.npy', 'wb'))"
      ]
    },
    {
      "cell_type": "code",
      "execution_count": null,
      "metadata": {
        "id": "PObQU5XK1-0V"
      },
      "outputs": [],
      "source": [
        "model = VGG19()\n",
        "model = Model(inputs=model.inputs, outputs=model.output)\n",
        "group_bval = x_bval_test\n",
        "features = model.predict(group_bval)\n",
        "print(features.shape)\n",
        "dump(features, open('group_bval_test.npy', 'wb'))"
      ]
    },
    {
      "cell_type": "code",
      "execution_count": null,
      "metadata": {
        "id": "L0Onr_id1-0W"
      },
      "outputs": [],
      "source": [
        "x_t2 = np.load('/content/group_t2_test.npy',allow_pickle=True)\n",
        "x_adc = np.load('/content/group_adc_test.npy',allow_pickle=True)\n",
        "x_bval = np.load('/content/group_bval_test.npy',allow_pickle=True)"
      ]
    },
    {
      "cell_type": "code",
      "execution_count": null,
      "metadata": {
        "id": "XIsvkpca1-0W"
      },
      "outputs": [],
      "source": [
        "X_test = np.concatenate((x_t2, x_adc,x_bval), axis=1)\n",
        "X_test.shape"
      ]
    },
    {
      "cell_type": "markdown",
      "metadata": {
        "id": "I8enMZVf1-0W"
      },
      "source": [
        "## FINAL- TRAIN, TEST"
      ]
    },
    {
      "cell_type": "code",
      "execution_count": null,
      "metadata": {
        "id": "BMsDHYx11-0W"
      },
      "outputs": [],
      "source": [
        "y_train = y_t2_train\n",
        "y_test = y_adc_test\n",
        "\n",
        "\n",
        "print(\"X_train shape: \",X_train.shape, \"\\nY_adc_train shape: \",y_train.shape)\n",
        "print(\"X_test shape: \",X_test.shape, \"\\nY_adc_test shape: \",y_test.shape)\n"
      ]
    },
    {
      "cell_type": "markdown",
      "metadata": {
        "id": "3r_HP2YC1-0X"
      },
      "source": [
        "## PCA"
      ]
    },
    {
      "cell_type": "code",
      "execution_count": null,
      "metadata": {
        "id": "exvuOEaS1-0X"
      },
      "outputs": [],
      "source": [
        "from sklearn.decomposition import PCA, KernelPCA"
      ]
    },
    {
      "cell_type": "code",
      "execution_count": null,
      "metadata": {
        "id": "THqJM2oI1-0X"
      },
      "outputs": [],
      "source": [
        "#pca = KernelPCA(n_components=32,kernel='linear') #kernel{‘linear’, ‘poly’, ‘rbf’, ‘sigmoid’, ‘cosine’, ‘precomputed’}, default=’linear’\n",
        "pca = KernelPCA(n_components=32,kernel='poly')\n",
        "pca.fit(X_train)\n",
        "x_train = pca.transform(X_train)"
      ]
    },
    {
      "cell_type": "code",
      "execution_count": null,
      "metadata": {
        "id": "BjJreiVI1-0Y"
      },
      "outputs": [],
      "source": [
        "x_test = pca.transform(X_test)"
      ]
    },
    {
      "cell_type": "code",
      "execution_count": null,
      "metadata": {
        "id": "UyQaxBTQ1-0Y"
      },
      "outputs": [],
      "source": [
        "print(x_train.shape)\n",
        "print(x_test.shape)\n"
      ]
    },
    {
      "cell_type": "markdown",
      "metadata": {
        "id": "n4BfLQgu1-0Z"
      },
      "source": [
        "## ORDINAL CLASS CLASSIFIER"
      ]
    },
    {
      "cell_type": "code",
      "execution_count": null,
      "metadata": {
        "id": "QAhK3wcX1-0Z"
      },
      "outputs": [],
      "source": [
        "#Decision Tree/J48/C4.5\n",
        "\n",
        "from sklearn import tree\n",
        "from sklearn.tree import DecisionTreeClassifier\n",
        "from sklearn.model_selection import GridSearchCV\n",
        "model = tree.DecisionTreeClassifier(random_state=seed_value)"
      ]
    },
    {
      "cell_type": "code",
      "execution_count": null,
      "metadata": {
        "id": "CZOcBNmg1-0a"
      },
      "outputs": [],
      "source": [
        "tuned_parameters = {'max_depth': np.arange(2,10),'min_samples_leaf': np.arange(5,30),\"criterion\":[\"gini\",\"entropy\"],\"min_impurity_decrease\":[1e-07,1e-06,1e-05,1e-04,1e-03,1e-02,1e-01,1]}\n",
        "\n",
        "inner_cv = StratifiedKFold(n_splits=10, shuffle=True,random_state=seed_value)\n",
        "\n",
        "grid_tree = GridSearchCV(model,tuned_parameters, scoring='accuracy', n_jobs = -1)\n",
        "grid_tree.fit(x_train,y_train)\n",
        "\n",
        "# Nested CV with parameter optimization\n",
        "nested_score = cross_val_score(grid_tree, x_train, y_train)"
      ]
    },
    {
      "cell_type": "code",
      "execution_count": null,
      "metadata": {
        "id": "dp3nn9codX5m"
      },
      "outputs": [],
      "source": [
        "nested_score"
      ]
    },
    {
      "cell_type": "code",
      "execution_count": null,
      "metadata": {
        "id": "rI9cBk2q1-0a"
      },
      "outputs": [],
      "source": [
        "# Mean Accuracy with +/- 2 std deviations\n",
        "print(\"Using Nested CV with grid search,accuracy: {0:.2%} +/- {1:.2%}\".format(nested_score.mean(), nested_score.std() * 2))\n",
        "print()\n",
        "print (\"The best hyper-parameters to get this accuracy is :-\\n\", grid_tree.best_params_)\n",
        "print()\n",
        "print (\"The best decision tree classifier is :-\\n\", grid_tree.best_estimator_)\n",
        "y_pred = grid_tree.best_estimator_.predict(x_test)\n",
        "\n",
        "#Goodness Measures confusion matrix and other measures like accuracy, precision,recall\n",
        "cm=confusion_matrix(y_test, y_pred)\n",
        "print(\"Confusion Matrix: - \\n\",cm)\n",
        "sns.heatmap(cm/np.sum(cm), annot=True,fmt='.2%', cmap='Blues')\n",
        "print(\"Classification Report: - \\n\",classification_report(y_test, y_pred))\n",
        "print(\"kappa score : - \\n\",cohen_kappa_score(y_test, y_pred))\n",
        "print(\"Test Accuracy: - \\n\",accuracy_score(y_test, y_pred))"
      ]
    },
    {
      "cell_type": "code",
      "execution_count": null,
      "metadata": {
        "id": "7lCiCsU5Epwg"
      },
      "outputs": [],
      "source": [
        "import xgboost as xgb\n",
        "import numpy as np\n",
        "from sklearn.model_selection import train_test_split\n",
        "from sklearn.metrics import accuracy_score\n",
        "\n",
        "xg_clf = xgb.XGBClassifier(objective='multi:softmax', num_class=3, max_depth=5, learning_rate=0.1, n_estimators=100)\n",
        "\n",
        "xg_clf.fit(x_train, y_train)\n",
        "\n",
        "y_pred = xg_clf.predict(x_test)\n",
        "\n",
        "accuracy = accuracy_score(y_test, y_pred)\n",
        "print('Accuracy:', accuracy)\n",
        "cm=confusion_matrix(y_test, y_pred)\n",
        "print(\"Confusion Matrix: - \\n\",cm)\n",
        "sns.heatmap(cm/np.sum(cm), annot=True,fmt='.2%', cmap='Blues')\n",
        "print(\"Classification Report: - \\n\",classification_report(y_test, y_pred))\n",
        "print(\"kappa score : - \\n\",cohen_kappa_score(y_test, y_pred))\n",
        "print(\"Test Accuracy: - \\n\",accuracy_score(y_test, y_pred))"
      ]
    },
    {
      "cell_type": "code",
      "source": [
        "import xgboost as xgb\n",
        "import numpy as np\n",
        "from tensorflow.keras.datasets import mnist\n",
        "from tensorflow.keras.layers import Input, Conv2D, MaxPooling2D, Flatten, Dense, Dropout\n",
        "from tensorflow.keras.models import Model\n",
        "from sklearn.model_selection import train_test_split\n",
        "from sklearn.metrics import accuracy_score\n",
        "from sklearn.preprocessing import StandardScaler\n",
        "from sklearn.decomposition import PCA\n",
        "from sklearn.pipeline import Pipeline\n",
        "from sklearn.model_selection import RandomizedSearchCV\n",
        "\n",
        "pipeline = Pipeline([\n",
        "    ('scaler', StandardScaler()),\n",
        "    ('pca', PCA(n_components=30)),\n",
        "])\n",
        "\n",
        "x_train_preprocessed = pipeline.fit_transform(x_train)\n",
        "x_test_preprocessed = pipeline.transform(x_test)\n",
        "\n",
        "xg_clf = xgb.XGBClassifier(objective='multi:softmax', num_class=3, n_jobs=-1)\n",
        "\n",
        "params = {\n",
        "    'max_depth': [3, 5, 7],\n",
        "    'learning_rate': [0.05, 0.1, 0.2],\n",
        "    'n_estimators': [100, 200, 300],\n",
        "    'subsample': [0.5, 0.8, 1.0],\n",
        "    'colsample_bytree': [0.5, 0.8, 1.0],\n",
        "}\n",
        "\n",
        "random_search = RandomizedSearchCV(xg_clf, param_distributions=params, cv=3, n_iter=10, verbose=3, n_jobs=-1)\n",
        "random_search.fit(x_train_preprocessed, y_train)\n",
        "\n",
        "y_pred = random_search.predict(x_test_preprocessed)\n",
        "\n",
        "accuracy = accuracy_score(y_test, y_pred)\n",
        "print('Accuracy:', accuracy)"
      ],
      "metadata": {
        "id": "bhviEBKW1N4J"
      },
      "execution_count": null,
      "outputs": []
    },
    {
      "cell_type": "code",
      "execution_count": null,
      "metadata": {
        "id": "CTPN4PfpZq9q"
      },
      "outputs": [],
      "source": [
        "from sklearn.model_selection import RandomizedSearchCV\n",
        "from sklearn.ensemble import RandomForestClassifier\n",
        "model = RandomForestClassifier()\n",
        "# Number of trees in random forest\n",
        "n_estimators = [int(x) for x in np.linspace(start = 200, stop = 2000, num = 10)]\n",
        "# Number of features to consider at every split\n",
        "max_features = ['auto', 'sqrt']\n",
        "# Maximum number of levels in tree\n",
        "max_depth = [int(x) for x in np.linspace(10, 110, num = 11)]\n",
        "max_depth.append(None)\n",
        "# Minimum number of samples required to split a node\n",
        "min_samples_split = [2, 5, 10]\n",
        "# Minimum number of samples required at each leaf node\n",
        "min_samples_leaf = [1, 2, 4]\n",
        "# Method of selecting samples for training each tree\n",
        "bootstrap = [True, False]\n",
        "# Create the random grid\n",
        "tuned_parameters = {'n_estimators': n_estimators,\n",
        "               'max_features': max_features,\n",
        "               'max_depth': max_depth,\n",
        "               'min_samples_split': min_samples_split,\n",
        "               'min_samples_leaf': min_samples_leaf,\n",
        "               'bootstrap': bootstrap}"
      ]
    },
    {
      "cell_type": "code",
      "execution_count": null,
      "metadata": {
        "id": "08KhrxbnrIV7"
      },
      "outputs": [],
      "source": [
        "tuned_parameters = {'max_depth': np.arange(2,10),'min_samples_leaf': np.arange(5,30),\"criterion\":[\"gini\",\"entropy\"],\"min_impurity_decrease\":[1e-07,1e-06,1e-05,1e-04,1e-03,1e-02,1e-01,1]}\n",
        "\n",
        "inner_cv = StratifiedKFold(n_splits=10, shuffle=True,random_state=seed_value)\n",
        "\n",
        "grid_tree = RandomizedSearchCV(model,tuned_parameters, scoring='accuracy', n_jobs = -1,n_iter=50)\n",
        "grid_tree.fit(x_train,y_train)\n",
        "\n",
        "# Nested CV with parameter optimization\n",
        "nested_score = cross_val_score(grid_tree, x_train, y_train)"
      ]
    },
    {
      "cell_type": "code",
      "execution_count": null,
      "metadata": {
        "id": "xpqvaiAZrIV8"
      },
      "outputs": [],
      "source": [
        "nested_score"
      ]
    },
    {
      "cell_type": "code",
      "execution_count": null,
      "metadata": {
        "id": "y0iZ4LRArIV8"
      },
      "outputs": [],
      "source": [
        "# Mean Accuracy with +/- 2 std deviations\n",
        "print(\"Using Nested CV with grid search,accuracy: {0:.2%} +/- {1:.2%}\".format(nested_score.mean(), nested_score.std() * 2))\n",
        "print()\n",
        "\n",
        "\n",
        "\n",
        "\n",
        "\n",
        "\n",
        "\n",
        "print (\"The best hyper-parameters to get this accuracy is :-\\n\", grid_tree.best_params_)\n",
        "print()\n",
        "print (\"The best decision tree classifier is :-\\n\", grid_tree.best_estimator_)\n",
        "y_pred = grid_tree.best_estimator_.predict(x_test)\n",
        "\n",
        "#Goodness Measures confusion matrix and other measures like accuracy, precision,recall\n",
        "cm=confusion_matrix(y_test, y_pred)\n",
        "print(\"Confusion Matrix: - \\n\",cm)\n",
        "sns.heatmap(cm/np.sum(cm), annot=True,fmt='.2%', cmap='Blues')\n",
        "print(\"Classification Report: - \\n\",classification_report(y_test, y_pred))\n",
        "print(\"kappa score : - \\n\",cohen_kappa_score(y_test, y_pred))\n",
        "print(\"Test Accuracy: - \\n\",accuracy_score(y_test, y_pred))"
      ]
    }
  ],
  "metadata": {
    "accelerator": "GPU",
    "colab": {
      "provenance": []
    },
    "gpuClass": "standard",
    "kernelspec": {
      "display_name": "Python 3 (ipykernel)",
      "language": "python",
      "name": "python3"
    },
    "language_info": {
      "codemirror_mode": {
        "name": "ipython",
        "version": 3
      },
      "file_extension": ".py",
      "mimetype": "text/x-python",
      "name": "python",
      "nbconvert_exporter": "python",
      "pygments_lexer": "ipython3",
      "version": "3.9.13"
    }
  },
  "nbformat": 4,
  "nbformat_minor": 0
}
